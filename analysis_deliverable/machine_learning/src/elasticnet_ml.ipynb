{
 "cells": [
  {
   "cell_type": "markdown",
   "id": "a2ea67ba-e973-4e0d-bf58-62f798ec816a",
   "metadata": {},
   "source": [
    "# ElasticNet Model Development\n",
    "\n",
    "The purpose of this notebook is to:\n",
    "\n",
    "1. Read in preprocessed data\n",
    "2. Declare parameter grid\n",
    "3. Perform cross validation pipeline\n",
    "4. Train and export a final model and test scores"
   ]
  },
  {
   "cell_type": "markdown",
   "id": "f3fac813-a038-4bc4-bff5-be9c1413b6a8",
   "metadata": {},
   "source": [
    "## Import necessary packages"
   ]
  },
  {
   "cell_type": "code",
   "execution_count": 101,
   "id": "84883a8c-77c2-494a-bb79-9d4c5c27af90",
   "metadata": {},
   "outputs": [],
   "source": [
    "import pandas as pd\n",
    "import numpy as np\n",
    "\n",
    "from sklearn.pipeline import Pipeline\n",
    "from sklearn.compose import ColumnTransformer\n",
    "from sklearn.preprocessing import OneHotEncoder\n",
    "from sklearn.preprocessing import OrdinalEncoder\n",
    "from sklearn.preprocessing import StandardScaler\n",
    "from sklearn.impute import SimpleImputer\n",
    "\n",
    "from sklearn.linear_model import ElasticNet\n",
    "from sklearn.model_selection import ParameterGrid, GridSearchCV, KFold, train_test_split\n",
    "\n",
    "from sklearn.metrics import mean_squared_error"
   ]
  },
  {
   "cell_type": "markdown",
   "id": "68354199-b35a-47a2-a6ca-7bbee1d591f6",
   "metadata": {},
   "source": [
    "## Read in the preprocessed (feature engineered) dataset"
   ]
  },
  {
   "cell_type": "code",
   "execution_count": 102,
   "id": "b1bf4ed5-e722-4575-9c0c-448b6732e11b",
   "metadata": {},
   "outputs": [
    {
     "data": {
      "text/plain": [
       "(Index(['title', 'runtimeMinutes', 'averageRating', 'numVotes', 'director',\n",
       "        'writer', 'productionBudget', 'domesticGross', 'worldwideGross',\n",
       "        'releaseYear', 'releaseMonth', 'releaseDay', 'genre-1', 'genre-2',\n",
       "        'genre-3', 'budgetYear', 'domesticGrossYear', 'worldwideGrossYear'],\n",
       "       dtype='object'),\n",
       " (1307, 18))"
      ]
     },
     "execution_count": 102,
     "metadata": {},
     "output_type": "execute_result"
    }
   ],
   "source": [
    "df = pd.read_csv(\"../data/preprocessed.csv\")\n",
    "df.columns, df.shape"
   ]
  },
  {
   "cell_type": "code",
   "execution_count": 103,
   "id": "0b7ab3bb-b0e6-4570-9097-dae6cb169d82",
   "metadata": {},
   "outputs": [],
   "source": [
    "target = \"averageRating\"\n",
    "X = df.drop(columns=[target])\n",
    "y = df[target]"
   ]
  },
  {
   "cell_type": "code",
   "execution_count": 104,
   "id": "94df67db-c39e-44e9-96d2-f65f77f823ee",
   "metadata": {},
   "outputs": [],
   "source": [
    "drop_ftrs = ['title']\n",
    "cat_ftrs = ['director', 'writer', 'genre-1', 'genre-2', 'genre-3']\n",
    "ordinal_ftrs = ['releaseYear', 'releaseMonth', 'releaseDay']\n",
    "ordinal_cats = [sorted(df[\"releaseYear\"].unique()), [1,2,3,4,5,6,7,8,9,10,11,12], \\\n",
    "                [1,2,3,4,5,6,7,8,9,10,11,12,13,14,15,16,17,18,19,20,21,22,23,24,25,26,27,28,29,30,31]]\n",
    "num_ftrs = ['runtimeMinutes', 'numVotes', 'productionBudget', 'domesticGross', 'worldwideGross', \\\n",
    "            'budgetYear', 'domesticGrossYear', 'worldwideGrossYear']\n",
    "\n",
    "# one-hot encoder\n",
    "categorical_transformer = Pipeline(steps=[\n",
    "    ('onehot', OneHotEncoder(sparse_output=False, handle_unknown='ignore'))])\n",
    "\n",
    "# ordinal encoder\n",
    "ordinal_transformer = Pipeline(steps=[\n",
    "    ('ordinal', OrdinalEncoder(categories = ordinal_cats))])\n",
    "\n",
    "# standard scaler\n",
    "numeric_transformer = Pipeline(steps=[\n",
    "    ('scaler', StandardScaler())])\n",
    "\n",
    "# collect the transformers\n",
    "prep = ColumnTransformer(\n",
    "    transformers=[\n",
    "        ('num', numeric_transformer, num_ftrs),\n",
    "        ('cat', categorical_transformer, cat_ftrs),\n",
    "        ('ord', ordinal_transformer, ordinal_ftrs),\n",
    "        ('drop', 'drop', drop_ftrs)])\n",
    "\n",
    "assert len(X.columns) == len(drop_ftrs) + len(cat_ftrs) + len(ordinal_ftrs) + len(num_ftrs)"
   ]
  },
  {
   "cell_type": "markdown",
   "id": "cc8e977e-dc01-4cad-805f-9c32e2b97c60",
   "metadata": {},
   "source": [
    "## Declare a parameter grid"
   ]
  },
  {
   "cell_type": "code",
   "execution_count": 105,
   "id": "e78eee9d-f41f-4182-b625-423e83b7a302",
   "metadata": {},
   "outputs": [],
   "source": [
    "param_grid = {\n",
    "    \"model__alpha\": np.logspace(-4,4,5),\n",
    "    \"model__l1_ratio\": np.linspace(0,1,5),\n",
    "    \"model__tol\": [0.5]\n",
    "}"
   ]
  },
  {
   "cell_type": "markdown",
   "id": "8adaa9aa-2cb2-4a12-b52e-a9ba9fb526c1",
   "metadata": {},
   "source": [
    "## Perform the machine learning cross validation pipeline\n",
    "\n",
    "The pipeline is as follows:\n",
    "\n",
    "1. Define K-Fold and pipeline (preprocessor + model regressor)\n",
    "2. Perform GridSearch cross validation using defined 5 split K-Fold and pipeline defined\n",
    "3. Score based on negative MSE, since GridSearchCV maximizes scores\n",
    "4. Fit GridSearch"
   ]
  },
  {
   "cell_type": "code",
   "execution_count": 107,
   "id": "828f90f9-11bf-4bd7-a237-f32285a14e89",
   "metadata": {},
   "outputs": [
    {
     "name": "stdout",
     "output_type": "stream",
     "text": [
      "random state #0\n",
      "Fitting 5 folds for each of 25 candidates, totalling 125 fits\n",
      "best params from CV: {'model__alpha': 0.01, 'model__l1_ratio': 0.25, 'model__tol': 0.5}\n",
      "test mse: 0.7557470269125138\n",
      "random state #1\n",
      "Fitting 5 folds for each of 25 candidates, totalling 125 fits\n",
      "best params from CV: {'model__alpha': 0.01, 'model__l1_ratio': 0.25, 'model__tol': 0.5}\n",
      "test mse: 0.7557470269125138\n",
      "random state #2\n",
      "Fitting 5 folds for each of 25 candidates, totalling 125 fits\n",
      "best params from CV: {'model__alpha': 0.01, 'model__l1_ratio': 0.25, 'model__tol': 0.5}\n",
      "test mse: 0.7557470269125138\n",
      "random state #3\n",
      "Fitting 5 folds for each of 25 candidates, totalling 125 fits\n",
      "best params from CV: {'model__alpha': 0.01, 'model__l1_ratio': 0.0, 'model__tol': 0.5}\n",
      "test mse: 0.7424287510784384\n",
      "random state #4\n",
      "Fitting 5 folds for each of 25 candidates, totalling 125 fits\n",
      "best params from CV: {'model__alpha': 0.01, 'model__l1_ratio': 0.0, 'model__tol': 0.5}\n",
      "test mse: 0.7424287510784384\n",
      "mse: 0.7504197165788836 +- 0.006524596009424959\n"
     ]
    }
   ],
   "source": [
    "nrand = 5\n",
    "\n",
    "r_test_mse = []\n",
    "r_best_params = []\n",
    "r_pipe = []\n",
    "\n",
    "X_train, X_test, y_train, y_test = train_test_split(X, y, train_size=0.8, random_state=42)\n",
    "\n",
    "for i in range(nrand):\n",
    "    print(f\"random state #{i}\")\n",
    "    kf = KFold(n_splits=5, shuffle=True, random_state=i)\n",
    "    \n",
    "    pipe = Pipeline(steps=[('prep', prep),\n",
    "                           ('model', ElasticNet())])\n",
    "    \n",
    "    # CV\n",
    "    grid_search = GridSearchCV(estimator=pipe, param_grid=param_grid, cv=kf, scoring='neg_mean_squared_error', verbose=1)\n",
    "    grid_search.fit(X_train, y_train)\n",
    "    best_params = grid_search.best_params_\n",
    "    print(f\"best params from CV: {best_params}\")\n",
    "    \n",
    "    # Final Model\n",
    "    final_pipe = Pipeline(steps=[('prep', prep), \n",
    "                                 ('model', ElasticNet())])\n",
    "    final_pipe.set_params(**best_params)\n",
    "    final_pipe.fit(X_train, y_train)\n",
    "    \n",
    "    test_mse = mean_squared_error(final_pipe.predict(X_test), y_test)\n",
    "    print(f\"test mse: {test_mse}\")\n",
    "\n",
    "    # save random state values\n",
    "    r_test_mse.append(test_mse)\n",
    "    r_best_params.append(best_params)\n",
    "    r_pipe.append(final_pipe)\n",
    "\n",
    "best_mse_i = np.argmin(r_test_mse)\n",
    "best_params = r_best_params[best_mse_i]\n",
    "final_pipe = r_pipe[best_mse_i]\n",
    "print(f\"mse: {np.mean(r_test_mse)} +- {np.std(r_test_mse)}\")"
   ]
  },
  {
   "cell_type": "markdown",
   "id": "18a5ac6d-55dd-4969-ba2b-62309f22a9b5",
   "metadata": {},
   "source": [
    "## Train and export a final model and test scores"
   ]
  },
  {
   "cell_type": "code",
   "execution_count": 108,
   "id": "1a29ec7e-f14c-4bbc-a398-80474558ea31",
   "metadata": {},
   "outputs": [
    {
     "data": {
      "text/plain": [
       "['../results/elasticnet_results.joblib']"
      ]
     },
     "execution_count": 108,
     "metadata": {},
     "output_type": "execute_result"
    }
   ],
   "source": [
    "from joblib import dump\n",
    "\n",
    "dump({'model': final_pipe.named_steps['model'], 'pipe': final_pipe, 'params': best_params, 'test_mses': r_test_mse}, \\\n",
    "     '../results/elasticnet_results.joblib')"
   ]
  },
  {
   "cell_type": "markdown",
   "id": "0fc7335a-3922-493a-8dfe-e59960eafc94",
   "metadata": {},
   "source": [
    "## Training set size"
   ]
  },
  {
   "cell_type": "code",
   "execution_count": 109,
   "id": "cff4b906-a306-4c04-ba9b-4b4edc4f06da",
   "metadata": {},
   "outputs": [
    {
     "name": "stdout",
     "output_type": "stream",
     "text": [
      "random state #1\n",
      "Fitting 5 folds for each of 25 candidates, totalling 125 fits\n",
      "best params from CV: {'model__alpha': 0.01, 'model__l1_ratio': 0.25, 'model__tol': 0.5}\n",
      "test mse: 0.79796981359204\n",
      "random state #2\n",
      "Fitting 5 folds for each of 25 candidates, totalling 125 fits\n",
      "best params from CV: {'model__alpha': 1.0, 'model__l1_ratio': 0.0, 'model__tol': 0.5}\n",
      "test mse: 0.8477520963887144\n",
      "random state #4\n",
      "Fitting 5 folds for each of 25 candidates, totalling 125 fits\n",
      "best params from CV: {'model__alpha': 0.01, 'model__l1_ratio': 0.25, 'model__tol': 0.5}\n",
      "test mse: 0.6802529232642928\n",
      "random state #6\n",
      "Fitting 5 folds for each of 25 candidates, totalling 125 fits\n",
      "best params from CV: {'model__alpha': 0.01, 'model__l1_ratio': 0.5, 'model__tol': 0.5}\n",
      "test mse: 0.7084286009323254\n",
      "random state #8\n",
      "Fitting 5 folds for each of 25 candidates, totalling 125 fits\n",
      "best params from CV: {'model__alpha': 0.01, 'model__l1_ratio': 0.25, 'model__tol': 0.5}\n",
      "test mse: 0.7557470269125138\n",
      "mse: 0.7580300922179772 +- 0.06026612267476833\n"
     ]
    }
   ],
   "source": [
    "nrand = 5\n",
    "\n",
    "r_test_mse = []\n",
    "r_best_params = []\n",
    "r_pipe = []\n",
    "train_size = []\n",
    "cv_mse = []\n",
    "\n",
    "for i in [1,2,4,6,8]:\n",
    "    X_train, X_test, y_train, y_test = train_test_split(X, y, train_size=i/10, random_state=42)\n",
    "    train_size.append(X_train.shape[0])\n",
    "    print(f\"random state #{i}\")\n",
    "    kf = KFold(n_splits=5, shuffle=True, random_state=i)\n",
    "    \n",
    "    pipe = Pipeline(steps=[('prep', prep),\n",
    "                           ('model', ElasticNet())])\n",
    "    \n",
    "    # CV\n",
    "    grid_search = GridSearchCV(estimator=pipe, param_grid=param_grid, cv=kf, scoring='neg_mean_squared_error', verbose=1)\n",
    "    grid_search.fit(X_train, y_train)\n",
    "    best_params = grid_search.best_params_\n",
    "    print(f\"best params from CV: {best_params}\")\n",
    "    cv_mse.append(-grid_search.best_score_)\n",
    "    \n",
    "    # Final Model\n",
    "    final_pipe = Pipeline(steps=[('prep', prep), \n",
    "                                 ('model', ElasticNet())])\n",
    "    final_pipe.set_params(**best_params)\n",
    "    final_pipe.fit(X_train, y_train)\n",
    "    \n",
    "    test_mse = mean_squared_error(final_pipe.predict(X_test), y_test)\n",
    "    print(f\"test mse: {test_mse}\")\n",
    "\n",
    "    # save random state values\n",
    "    r_test_mse.append(test_mse)\n",
    "    r_best_params.append(best_params)\n",
    "    r_pipe.append(final_pipe)\n",
    "\n",
    "best_mse_i = np.argmin(r_test_mse)\n",
    "best_params = r_best_params[best_mse_i]\n",
    "final_pipe = r_pipe[best_mse_i]\n",
    "print(f\"mse: {np.mean(r_test_mse)} +- {np.std(r_test_mse)}\")"
   ]
  },
  {
   "cell_type": "code",
   "execution_count": 111,
   "id": "48a8f0ce-e145-4bb1-ae92-38a89d3f6eb1",
   "metadata": {},
   "outputs": [
    {
     "data": {
      "image/png": "[encoded data removed]",
      "text/plain": [
       "<Figure size 1000x600 with 1 Axes>"
      ]
     },
     "metadata": {},
     "output_type": "display_data"
    }
   ],
   "source": [
    "import matplotlib.pyplot as plt\n",
    "plt.figure(figsize=(10, 6))\n",
    "plt.plot(train_size, cv_mse, 'o-', color=\"r\", label=\"Testing MSE\")\n",
    "plt.plot(train_size, r_test_mse, 'o-', color=\"b\", label=\"Cross-validation MSE\")\n",
    "plt.xlabel(\"Training set size\")\n",
    "plt.ylabel(\"Mean Squared Error\")\n",
    "plt.title(\"ElasticNet: Train size vs MSE\")\n",
    "plt.legend(loc=\"best\")\n",
    "plt.grid()\n",
    "plt.savefig('../figures/elasticnet_train_vs_mse.png', dpi=1000)\n",
    "plt.show()"
   ]
  }
 ],
 "metadata": {
  "kernelspec": {
   "display_name": "Python 3 (ipykernel)",
   "language": "python",
   "name": "python3"
  },
  "language_info": {
   "codemirror_mode": {
    "name": "ipython",
    "version": 3
   },
   "file_extension": ".py",
   "mimetype": "text/x-python",
   "name": "python",
   "nbconvert_exporter": "python",
   "pygments_lexer": "ipython3",
   "version": "3.10.7"
  }
 },
 "nbformat": 4,
 "nbformat_minor": 5
}
