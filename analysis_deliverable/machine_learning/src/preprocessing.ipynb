{
 "cells": [
  {
   "cell_type": "markdown",
   "id": "0e43644a-c989-41ce-9227-a35b87b986c4",
   "metadata": {},
   "source": [
    "# Preprocessing (feature engineering)\n",
    "\n",
    "After compiling the data, there are still some changes to perform before training models.\n",
    "\n",
    "The purpose of this notebook is to:\n",
    "\n",
    "1. Drop rows missing `runtimeMinutes` (just 4 features)\n",
    "2. Genres into array into columns\n",
    "3. Drop release date (unused)\n",
    "4. Feature engineering feature combinations"
   ]
  },
  {
   "cell_type": "markdown",
   "id": "1abbb1d5-2829-425d-9317-383c620ff68e",
   "metadata": {},
   "source": [
    "## Import necessary packages and data"
   ]
  },
  {
   "cell_type": "code",
   "execution_count": 3,
   "id": "17c67839-6075-4d8e-8279-69898fa5bb31",
   "metadata": {},
   "outputs": [
    {
     "data": {
      "text/html": [
       "<div>\n",
       "<style scoped>\n",
       "    .dataframe tbody tr th:only-of-type {\n",
       "        vertical-align: middle;\n",
       "    }\n",
       "\n",
       "    .dataframe tbody tr th {\n",
       "        vertical-align: top;\n",
       "    }\n",
       "\n",
       "    .dataframe thead th {\n",
       "        text-align: right;\n",
       "    }\n",
       "</style>\n",
       "<table border=\"1\" class=\"dataframe\">\n",
       "  <thead>\n",
       "    <tr style=\"text-align: right;\">\n",
       "      <th></th>\n",
       "      <th>title</th>\n",
       "      <th>runtimeMinutes</th>\n",
       "      <th>genres</th>\n",
       "      <th>averageRating</th>\n",
       "      <th>numVotes</th>\n",
       "      <th>director</th>\n",
       "      <th>writer</th>\n",
       "      <th>releaseDate</th>\n",
       "      <th>productionBudget</th>\n",
       "      <th>domesticGross</th>\n",
       "      <th>worldwideGross</th>\n",
       "      <th>releaseYear</th>\n",
       "      <th>releaseMonth</th>\n",
       "      <th>releaseDay</th>\n",
       "    </tr>\n",
       "  </thead>\n",
       "  <tbody>\n",
       "    <tr>\n",
       "      <th>0</th>\n",
       "      <td>Modern Times</td>\n",
       "      <td>87</td>\n",
       "      <td>Comedy,Drama,Romance</td>\n",
       "      <td>8.5</td>\n",
       "      <td>257713</td>\n",
       "      <td>Charles Chaplin</td>\n",
       "      <td>Charles Chaplin</td>\n",
       "      <td>Feb 5, 1936</td>\n",
       "      <td>1500000</td>\n",
       "      <td>163245</td>\n",
       "      <td>229549</td>\n",
       "      <td>1936</td>\n",
       "      <td>2</td>\n",
       "      <td>5</td>\n",
       "    </tr>\n",
       "    <tr>\n",
       "      <th>1</th>\n",
       "      <td>Cat People</td>\n",
       "      <td>73</td>\n",
       "      <td>Fantasy,Horror,Thriller</td>\n",
       "      <td>7.2</td>\n",
       "      <td>25752</td>\n",
       "      <td>Jacques Tourneur</td>\n",
       "      <td>DeWitt Bodeen</td>\n",
       "      <td>Nov 16, 1942</td>\n",
       "      <td>134000</td>\n",
       "      <td>4000000</td>\n",
       "      <td>8000000</td>\n",
       "      <td>1942</td>\n",
       "      <td>11</td>\n",
       "      <td>16</td>\n",
       "    </tr>\n",
       "    <tr>\n",
       "      <th>2</th>\n",
       "      <td>Wilson</td>\n",
       "      <td>154</td>\n",
       "      <td>Biography,Drama,History</td>\n",
       "      <td>6.4</td>\n",
       "      <td>1686</td>\n",
       "      <td>Henry King</td>\n",
       "      <td>Lamar Trotti</td>\n",
       "      <td>Aug 1, 1944</td>\n",
       "      <td>5200000</td>\n",
       "      <td>2000000</td>\n",
       "      <td>2000000</td>\n",
       "      <td>1944</td>\n",
       "      <td>8</td>\n",
       "      <td>1</td>\n",
       "    </tr>\n",
       "    <tr>\n",
       "      <th>3</th>\n",
       "      <td>12 Angry Men</td>\n",
       "      <td>96</td>\n",
       "      <td>Crime,Drama</td>\n",
       "      <td>9.0</td>\n",
       "      <td>856479</td>\n",
       "      <td>Sidney Lumet</td>\n",
       "      <td>Reginald Rose</td>\n",
       "      <td>Apr 13, 1957</td>\n",
       "      <td>340000</td>\n",
       "      <td>0</td>\n",
       "      <td>379</td>\n",
       "      <td>1957</td>\n",
       "      <td>4</td>\n",
       "      <td>13</td>\n",
       "    </tr>\n",
       "    <tr>\n",
       "      <th>4</th>\n",
       "      <td>The Alamo</td>\n",
       "      <td>162</td>\n",
       "      <td>Adventure,Drama,History</td>\n",
       "      <td>6.8</td>\n",
       "      <td>17497</td>\n",
       "      <td>John Wayne</td>\n",
       "      <td>James Edward Grant</td>\n",
       "      <td>Oct 24, 1960</td>\n",
       "      <td>12000000</td>\n",
       "      <td>7900000</td>\n",
       "      <td>7900000</td>\n",
       "      <td>1960</td>\n",
       "      <td>10</td>\n",
       "      <td>24</td>\n",
       "    </tr>\n",
       "  </tbody>\n",
       "</table>\n",
       "</div>"
      ],
      "text/plain": [
       "          title runtimeMinutes                   genres  averageRating  \\\n",
       "0  Modern Times             87     Comedy,Drama,Romance            8.5   \n",
       "1    Cat People             73  Fantasy,Horror,Thriller            7.2   \n",
       "2        Wilson            154  Biography,Drama,History            6.4   \n",
       "3  12 Angry Men             96              Crime,Drama            9.0   \n",
       "4     The Alamo            162  Adventure,Drama,History            6.8   \n",
       "\n",
       "   numVotes          director              writer   releaseDate  \\\n",
       "0    257713   Charles Chaplin     Charles Chaplin   Feb 5, 1936   \n",
       "1     25752  Jacques Tourneur       DeWitt Bodeen  Nov 16, 1942   \n",
       "2      1686        Henry King        Lamar Trotti   Aug 1, 1944   \n",
       "3    856479      Sidney Lumet       Reginald Rose  Apr 13, 1957   \n",
       "4     17497        John Wayne  James Edward Grant  Oct 24, 1960   \n",
       "\n",
       "   productionBudget  domesticGross  worldwideGross  releaseYear  releaseMonth  \\\n",
       "0           1500000         163245          229549         1936             2   \n",
       "1            134000        4000000         8000000         1942            11   \n",
       "2           5200000        2000000         2000000         1944             8   \n",
       "3            340000              0             379         1957             4   \n",
       "4          12000000        7900000         7900000         1960            10   \n",
       "\n",
       "   releaseDay  \n",
       "0           5  \n",
       "1          16  \n",
       "2           1  \n",
       "3          13  \n",
       "4          24  "
      ]
     },
     "execution_count": 3,
     "metadata": {},
     "output_type": "execute_result"
    }
   ],
   "source": [
    "import pandas as pd\n",
    "\n",
    "df = pd.read_csv(\"../../../data_deliverable/compiled_data/compiled.csv\")\n",
    "df.head()"
   ]
  },
  {
   "cell_type": "markdown",
   "id": "eaa2ecdf-f8b0-4d2b-9a11-c2a56fcf67e4",
   "metadata": {},
   "source": [
    "## Drop missing `runtimeMinutes`\n",
    "\n",
    "Removing these rows because\n",
    "1. Doesn't make sense for a month to not have a runtime specified\n",
    "2. There are just 4 of these rows"
   ]
  },
  {
   "cell_type": "code",
   "execution_count": 4,
   "id": "90750933-7371-478d-82c1-b34270f1dd23",
   "metadata": {},
   "outputs": [],
   "source": [
    "mask = df['runtimeMinutes'] == '\\\\N'\n",
    "df = df[~mask]"
   ]
  },
  {
   "cell_type": "markdown",
   "id": "90edb330-ba3d-4f82-98fd-7c34009292e2",
   "metadata": {},
   "source": [
    "## Create array out of genres"
   ]
  },
  {
   "cell_type": "code",
   "execution_count": 5,
   "id": "140889f0-f20f-4a65-994b-82801a1ebfbd",
   "metadata": {},
   "outputs": [
    {
     "data": {
      "text/plain": [
       "0       [Comedy, Drama, Romance]\n",
       "1    [Fantasy, Horror, Thriller]\n",
       "2    [Biography, Drama, History]\n",
       "3                 [Crime, Drama]\n",
       "4    [Adventure, Drama, History]\n",
       "Name: genres, dtype: object"
      ]
     },
     "execution_count": 5,
     "metadata": {},
     "output_type": "execute_result"
    }
   ],
   "source": [
    "df[\"genres\"] = df[\"genres\"].str.split(\",\")\n",
    "df[\"genres\"].head()"
   ]
  },
  {
   "cell_type": "markdown",
   "id": "0df8e598-b051-4fbb-94d8-d398194c6f97",
   "metadata": {},
   "source": [
    "## Convert genres array to columns"
   ]
  },
  {
   "cell_type": "code",
   "execution_count": 6,
   "id": "4f6558fd-9be4-4dd9-907e-fcfaacae3d34",
   "metadata": {},
   "outputs": [],
   "source": [
    "df['genre-1'] = df['genres'].apply(lambda x: x[0] if len(x) > 0 else \"NA\")\n",
    "df['genre-2'] = df['genres'].apply(lambda x: x[1] if len(x) > 1 else \"NA\")\n",
    "df['genre-3'] = df['genres'].apply(lambda x: x[2] if len(x) > 2 else \"NA\")"
   ]
  },
  {
   "cell_type": "markdown",
   "id": "11d752f6-406d-4644-9b75-f486d4376ff4",
   "metadata": {},
   "source": [
    "## Drop releaseDate and genres array"
   ]
  },
  {
   "cell_type": "code",
   "execution_count": 7,
   "id": "0fdb7ad2-a4c4-4e69-83a5-a4b98a939cf1",
   "metadata": {},
   "outputs": [
    {
     "data": {
      "text/plain": [
       "Index(['title', 'runtimeMinutes', 'averageRating', 'numVotes', 'director',\n",
       "       'writer', 'productionBudget', 'domesticGross', 'worldwideGross',\n",
       "       'releaseYear', 'releaseMonth', 'releaseDay', 'genre-1', 'genre-2',\n",
       "       'genre-3'],\n",
       "      dtype='object')"
      ]
     },
     "execution_count": 7,
     "metadata": {},
     "output_type": "execute_result"
    }
   ],
   "source": [
    "df.drop(columns=[\"releaseDate\", \"genres\"], inplace=True)\n",
    "df.columns"
   ]
  },
  {
   "cell_type": "markdown",
   "id": "a37ab975-77ee-43d8-9ad7-566f4f5ff9dd",
   "metadata": {},
   "source": [
    "## Feature Engineering\n",
    "\n",
    "Additional features include:\n",
    " - Budget / year\n",
    " - Domestic gross / budget\n",
    " - Worldwide gross / budget"
   ]
  },
  {
   "cell_type": "code",
   "execution_count": 8,
   "id": "5a2be549-8abe-4afd-9691-1a9bbef6fed2",
   "metadata": {},
   "outputs": [
    {
     "data": {
      "text/plain": [
       "Index(['title', 'runtimeMinutes', 'averageRating', 'numVotes', 'director',\n",
       "       'writer', 'productionBudget', 'domesticGross', 'worldwideGross',\n",
       "       'releaseYear', 'releaseMonth', 'releaseDay', 'genre-1', 'genre-2',\n",
       "       'genre-3', 'budgetYear', 'domesticGrossYear', 'worldwideGrossYear'],\n",
       "      dtype='object')"
      ]
     },
     "execution_count": 8,
     "metadata": {},
     "output_type": "execute_result"
    }
   ],
   "source": [
    "df[\"budgetYear\"] = df[\"productionBudget\"] / df[\"releaseYear\"]\n",
    "df[\"domesticGrossYear\"] = df[\"domesticGross\"] / df[\"releaseYear\"]\n",
    "df[\"worldwideGrossYear\"] = df[\"worldwideGross\"] / df[\"releaseYear\"]\n",
    "df.columns"
   ]
  },
  {
   "cell_type": "markdown",
   "id": "c37fddd5-543f-4ada-bc0a-0f969c9d28a9",
   "metadata": {},
   "source": [
    "Export"
   ]
  },
  {
   "cell_type": "code",
   "execution_count": 9,
   "id": "7053af13-fff1-467c-b288-d35a6e36c2aa",
   "metadata": {},
   "outputs": [],
   "source": [
    "df.to_csv(\"../data/preprocessed.csv\", index=False)"
   ]
  }
 ],
 "metadata": {
  "kernelspec": {
   "display_name": "Python 3 (ipykernel)",
   "language": "python",
   "name": "python3"
  },
  "language_info": {
   "codemirror_mode": {
    "name": "ipython",
    "version": 3
   },
   "file_extension": ".py",
   "mimetype": "text/x-python",
   "name": "python",
   "nbconvert_exporter": "python",
   "pygments_lexer": "ipython3",
   "version": "3.10.7"
  }
 },
 "nbformat": 4,
 "nbformat_minor": 5
}
